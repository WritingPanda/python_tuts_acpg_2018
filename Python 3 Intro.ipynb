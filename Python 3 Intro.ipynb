{
 "cells": [
  {
   "cell_type": "markdown",
   "metadata": {
    "slideshow": {
     "slide_type": "slide"
    }
   },
   "source": [
    "# Introduction to Python 3\n",
    "\n",
    "## A primer for developers looking to get into Python"
   ]
  },
  {
   "cell_type": "markdown",
   "metadata": {
    "slideshow": {
     "slide_type": "fragment"
    }
   },
   "source": [
    "`$ whoami`\n",
    "\n",
    "```\n",
    "Omar Quimbaya\n",
    "Sales Engineer at Infocyte\n",
    "Founder and President of the CyberDEF Dojo\n",
    "Host of the devmap podcast\n",
    "Python Programmer\n",
    "```"
   ]
  },
  {
   "cell_type": "markdown",
   "metadata": {
    "slideshow": {
     "slide_type": "slide"
    }
   },
   "source": [
    "# What're we talking about?\n",
    "\n",
    "#### Python, obviously"
   ]
  },
  {
   "cell_type": "markdown",
   "metadata": {
    "slideshow": {
     "slide_type": "fragment"
    }
   },
   "source": [
    "1. Introduce main concepts behind Python 3\n",
    "1. What is different between Python 2 and 3, and why is 2 being deprecated?\n",
    "1. Features in 3 that are great and how they can be used\n",
    "1. Modules and libraries worth exploring when getting into Python 3\n",
    "1. Additional Resources\n",
    "1. Q&A"
   ]
  },
  {
   "cell_type": "markdown",
   "metadata": {
    "slideshow": {
     "slide_type": "slide"
    }
   },
   "source": [
    "# But what is Python?\n",
    "\n",
    "```\n",
    "Python is an interpreted, interactive, object-oriented programming language. It incorporates modules, exceptions, dynamic typing, very high level dynamic data types, and classes. Python combines remarkable power with very clear syntax. It has interfaces to many system calls and libraries, as well as to various window systems, and is extensible in C or C++. It is also usable as an extension language for applications that need a programmable interface. Finally, Python is portable: it runs on many Unix variants, on the Mac, and on Windows 2000 and later.\n",
    "```"
   ]
  },
  {
   "cell_type": "markdown",
   "metadata": {
    "slideshow": {
     "slide_type": "fragment"
    }
   },
   "source": [
    "In other words, Python is easy to learn, easy to read, and easy to use across multiple operating systems.\n",
    "\n",
    "```python\n",
    "print(\"Hello world\")\n",
    "# Wow, your first python command!\n",
    "```"
   ]
  },
  {
   "cell_type": "markdown",
   "metadata": {
    "slideshow": {
     "slide_type": "slide"
    }
   },
   "source": [
    "## Trivia\n",
    "\n",
    "1. Python is not named after the snake -- it's named after Monty Python because the creator, Guido van Rossum, thought the name Python was short, unique, and slightly mysterious.\n",
    "1. This presentation is powered by jupyter notebook and RISE\n",
    "     - More on that later"
   ]
  },
  {
   "cell_type": "markdown",
   "metadata": {
    "slideshow": {
     "slide_type": "slide"
    }
   },
   "source": [
    "# Python 3 Main Concepts\n",
    "\n",
    "1. Properties\n",
    "1. Data types\n",
    "    - Strings\n",
    "    - Boolean\n",
    "    - Integers\n",
    "    - Floats\n",
    "    - Complex numbers\n",
    "    - Lists\n",
    "    - Dictionaries\n",
    "    - Tuples\n",
    "1. Flow control statements\n",
    "    - `while`\n",
    "    - `for`\n",
    "    - `if, elif, else`\n",
    "1. Functions\n",
    "    - `def`\n",
    "1. Classes\n",
    "    - `class`\n",
    "    - `__init__`\n",
    "    - `__dir__`\n",
    "    - `__dict__`"
   ]
  },
  {
   "cell_type": "code",
   "execution_count": 15,
   "metadata": {
    "slideshow": {
     "slide_type": "subslide"
    }
   },
   "outputs": [
    {
     "name": "stdout",
     "output_type": "stream",
     "text": [
      "Yep, this is a string!\n"
     ]
    }
   ],
   "source": [
    "# This is a string\n",
    "sample_string = \"Hello python group!\"\n",
    "if isinstance(sample_string, str):\n",
    "    print(\"Yep, this is a string!\")\n",
    "else:\n",
    "    print(\"No, this is not a string.\")"
   ]
  },
  {
   "cell_type": "code",
   "execution_count": 11,
   "metadata": {
    "slideshow": {
     "slide_type": "fragment"
    }
   },
   "outputs": [
    {
     "name": "stdout",
     "output_type": "stream",
     "text": [
      "That's a boolean!\n"
     ]
    }
   ],
   "source": [
    "# This is a boolean\n",
    "sample_bool = True\n",
    "if isinstance(sample_bool, bool):\n",
    "    print(\"That's a boolean!\")\n",
    "else:\n",
    "    print(\"Nope.\")"
   ]
  },
  {
   "cell_type": "code",
   "execution_count": 12,
   "metadata": {
    "slideshow": {
     "slide_type": "fragment"
    }
   },
   "outputs": [
    {
     "name": "stdout",
     "output_type": "stream",
     "text": [
      "Totally an integer.\n"
     ]
    }
   ],
   "source": [
    "# This is an integer\n",
    "sample_integer = 2018\n",
    "if isinstance(sample_integer, int):\n",
    "    print(\"Totally an integer.\")\n",
    "else:\n",
    "    print(\"No, this is not an integer.\")"
   ]
  },
  {
   "cell_type": "code",
   "execution_count": 13,
   "metadata": {
    "slideshow": {
     "slide_type": "fragment"
    }
   },
   "outputs": [
    {
     "name": "stdout",
     "output_type": "stream",
     "text": [
      "It's a float!\n"
     ]
    }
   ],
   "source": [
    "# This is a float\n",
    "sample_float = 20.18\n",
    "if isinstance(sample_float, float):\n",
    "    print(\"It's a float!\")\n",
    "else:\n",
    "    print(\"Nope, not a float.\")"
   ]
  },
  {
   "cell_type": "code",
   "execution_count": 14,
   "metadata": {
    "slideshow": {
     "slide_type": "fragment"
    }
   },
   "outputs": [
    {
     "name": "stdout",
     "output_type": "stream",
     "text": [
      "Oof, that's weird. Not something that is commonly used unless you're a scientist.\n"
     ]
    }
   ],
   "source": [
    "# This is a complex number\n",
    "sample_complex = 20+18j\n",
    "if isinstance(sample_complex, complex):\n",
    "    print(\"Oof, that's weird. Not something that is commonly used unless you're a scientist.\")\n",
    "else:\n",
    "    print(\"It's simpler than I thought.\")"
   ]
  },
  {
   "cell_type": "code",
   "execution_count": 21,
   "metadata": {
    "slideshow": {
     "slide_type": "subslide"
    }
   },
   "outputs": [
    {
     "name": "stdout",
     "output_type": "stream",
     "text": [
      "[1, 2, 3, 4]\n",
      "That's a list, all right.\n"
     ]
    }
   ],
   "source": [
    "# List\n",
    "sample_list = [1, 2, 3]\n",
    "sample_list.append(4)\n",
    "print(sample_list)\n",
    "if isinstance(sample_list, list):\n",
    "    print(\"That's a list, all right.\")\n",
    "else:\n",
    "    print(\"Sorry, breh. That's no list.\")"
   ]
  },
  {
   "cell_type": "code",
   "execution_count": 22,
   "metadata": {
    "slideshow": {
     "slide_type": "fragment"
    }
   },
   "outputs": [
    {
     "name": "stdout",
     "output_type": "stream",
     "text": [
      "value\n",
      "Nice dict.\n"
     ]
    }
   ],
   "source": [
    "# Dictionary\n",
    "sample_dict = {\n",
    "    \"key\": \"value\",\n",
    "    \"id\": 1,\n",
    "    \"is_json\": False,\n",
    "}\n",
    "print(sample_dict[\"key\"])\n",
    "if isinstance(sample_dict, dict):\n",
    "    print(\"Nice dict.\")\n",
    "else:\n",
    "    print(\"That ain't a dict I ever seen.\")"
   ]
  },
  {
   "cell_type": "code",
   "execution_count": 23,
   "metadata": {
    "slideshow": {
     "slide_type": "fragment"
    }
   },
   "outputs": [
    {
     "name": "stdout",
     "output_type": "stream",
     "text": [
      "You can't do that. Here's why: 'tuple' object has no attribute 'append'\n",
      "('red', 'blue', 'green')\n",
      "Tuples can't change.\n"
     ]
    }
   ],
   "source": [
    "# Tuples\n",
    "# https://www.programiz.com/python-programming/methods/tuple\n",
    "sample_tuple = (\"red\", \"blue\", \"green\",)\n",
    "\n",
    "def update_tuple(the_tuple, appending_value):\n",
    "    try:\n",
    "        the_tuple.append(appending_value)\n",
    "    except Exception as e:\n",
    "        print(f\"You can't do that. Here's why: {e}\")\n",
    "    return the_tuple\n",
    "\n",
    "print(update_tuple(sample_tuple, \"purple\"))\n",
    "\n",
    "if isinstance(sample_tuple, tuple):\n",
    "    print(\"Tuples can't change.\")\n",
    "else:\n",
    "    print(\"If this changed, then it's not a tuple.\")"
   ]
  },
  {
   "cell_type": "code",
   "execution_count": 1,
   "metadata": {
    "slideshow": {
     "slide_type": "subslide"
    }
   },
   "outputs": [
    {
     "name": "stdout",
     "output_type": "stream",
     "text": [
      "1\n",
      "2\n",
      "3\n",
      "4\n",
      "5\n",
      "6\n",
      "Halfway there!\n",
      "7\n",
      "8\n",
      "9\n",
      "10\n",
      "11\n",
      "12\n",
      "13\n",
      "Let's stop here instead.\n"
     ]
    }
   ],
   "source": [
    "# while loop\n",
    "x = 1\n",
    "while x <= 15:\n",
    "    print(x)\n",
    "    x = x + 1\n",
    "    if x == 7:\n",
    "        print(\"Halfway there!\")\n",
    "        continue\n",
    "    if x == 14:\n",
    "        print(\"Let's stop here instead.\")\n",
    "        break"
   ]
  },
  {
   "cell_type": "code",
   "execution_count": 2,
   "metadata": {
    "slideshow": {
     "slide_type": "fragment"
    }
   },
   "outputs": [
    {
     "name": "stdout",
     "output_type": "stream",
     "text": [
      "0\n",
      "1\n",
      "2\n",
      "3\n",
      "4\n",
      "5\n",
      "6\n",
      "You get the point.\n"
     ]
    }
   ],
   "source": [
    "# for loop\n",
    "for x in range(0, 15):\n",
    "    print(x)\n",
    "    x = x + 1\n",
    "    if x == 7:\n",
    "        print(\"You get the point.\")\n",
    "        break"
   ]
  },
  {
   "cell_type": "code",
   "execution_count": 11,
   "metadata": {
    "slideshow": {
     "slide_type": "subslide"
    }
   },
   "outputs": [
    {
     "name": "stdout",
     "output_type": "stream",
     "text": [
      "('!puorg nohtyp ,olleh', 'eulav')\n"
     ]
    }
   ],
   "source": [
    "# functions\n",
    "def my_func(parameter: str, default=\"value\"):\n",
    "    # reversing strings\n",
    "    # [begin:end:step]\n",
    "    reverse = parameter[::-1]\n",
    "    reverse_default = default[::-1]\n",
    "    return reverse, reverse_default\n",
    "\n",
    "print(my_func(\"hello, python group!\"))"
   ]
  },
  {
   "cell_type": "code",
   "execution_count": 17,
   "metadata": {
    "slideshow": {
     "slide_type": "subslide"
    }
   },
   "outputs": [
    {
     "name": "stdout",
     "output_type": "stream",
     "text": [
      "Doug Mendizzie\n",
      "It's not really private, but the underscore helps us know that the developer wants it to be private.\n",
      "['firstname', 'lastname', 'height', '__module__', '__init__', 'is_taller_than_omar', 'get_fullname', 'get_firstname', 'get_lastname', '_private_function', '__dict__', '__weakref__', '__doc__', '__repr__', '__hash__', '__str__', '__getattribute__', '__setattr__', '__delattr__', '__lt__', '__le__', '__eq__', '__ne__', '__gt__', '__ge__', '__new__', '__reduce_ex__', '__reduce__', '__subclasshook__', '__init_subclass__', '__format__', '__sizeof__', '__dir__', '__class__']\n",
      "\n",
      "\n",
      "{'firstname': 'Doug', 'lastname': 'Mendizzie', 'height': 179}\n"
     ]
    }
   ],
   "source": [
    "# classes\n",
    "class Person():\n",
    "    def __init__(self, firstname, lastname, height):\n",
    "        self.firstname = firstname\n",
    "        self.lastname = lastname\n",
    "        self.height = height\n",
    "\n",
    "    def is_taller_than_omar(self):\n",
    "        omar_height_in_cm = 181\n",
    "        if self.height > omar_height_in_cm:\n",
    "            return True\n",
    "        else:\n",
    "            return False\n",
    "\n",
    "    def get_fullname(self):\n",
    "        return f\"{self.firstname} {self.lastname}\"\n",
    "    \n",
    "    def get_firstname(self):\n",
    "        return self.firstname\n",
    "    \n",
    "    def get_lastname(self):\n",
    "        return self.lastname\n",
    "\n",
    "    def _private_function(self):\n",
    "        return f\"It's not really private, but the underscore helps us know that the developer wants it to be private.\"\n",
    "    \n",
    "new_person = Person(\"Doug\", \"Mendizzie\", 179)\n",
    "print(new_person.get_fullname())\n",
    "print(new_person._private_function())\n",
    "print(new_person.__dir__())\n",
    "print(\"\\n\")\n",
    "print(new_person.__dict__)"
   ]
  },
  {
   "cell_type": "markdown",
   "metadata": {
    "slideshow": {
     "slide_type": "slide"
    }
   },
   "source": [
    "# Differences between Python 2 and 3\n",
    "\n",
    "- `__future__` module\n",
    "- `print` function\n",
    "- Integer division\n",
    "- Unicode\n",
    "- `xrange`\n",
    "- Raising and handling exceptions\n",
    "- `next()` and `.next()`\n",
    "- So much more now (https://docs.python.org/3/whatsnew/3.0.html)"
   ]
  },
  {
   "cell_type": "markdown",
   "metadata": {
    "slideshow": {
     "slide_type": "subslide"
    }
   },
   "source": [
    "`__future__`\n",
    "\n",
    "Module to help with backwards compatibility between Python 3 and 2"
   ]
  },
  {
   "cell_type": "markdown",
   "metadata": {
    "slideshow": {
     "slide_type": "fragment"
    }
   },
   "source": [
    "`print` functions\n",
    "\n",
    "From keyword to function, Python 3 requires the parenthesis."
   ]
  },
  {
   "cell_type": "markdown",
   "metadata": {
    "slideshow": {
     "slide_type": "fragment"
    }
   },
   "source": [
    "## Integer Division\n",
    "\n",
    "```python\n",
    "# python 2\n",
    "3 / 2\n",
    "# > 1\n",
    "\n",
    "# python 3\n",
    "3 / 2\n",
    "# > 1.5\n",
    "```"
   ]
  },
  {
   "cell_type": "markdown",
   "metadata": {
    "slideshow": {
     "slide_type": "subslide"
    }
   },
   "source": [
    "## Unicode\n",
    "\n",
    "Python 3 treats strings as unicode\n",
    "\n",
    "Python 2 treats strings as ASCII unless you specify the encoding."
   ]
  },
  {
   "cell_type": "markdown",
   "metadata": {
    "slideshow": {
     "slide_type": "fragment"
    }
   },
   "source": [
    "`xrange`\n",
    "\n",
    "`xrange` was an improvement of the `range` function in Python 2.\n",
    "\n",
    "Python 3 uses `range`, which is an implementation of `xrange`. Therefore, `xrange` as a function does not exist in Python 3."
   ]
  },
  {
   "cell_type": "markdown",
   "metadata": {
    "slideshow": {
     "slide_type": "subslide"
    }
   },
   "source": [
    "## Raising and Handling Exceptions\n",
    "\n",
    "```python\n",
    "# Python 2\n",
    "raise IOError, \"file error\"\n",
    "# OR\n",
    "raise IOError(\"file error\")\n",
    "\n",
    "# Python 3\n",
    "raise IOError(\"File error\")\n",
    "# Only one way to do it\n",
    "```\n",
    "\n",
    "```python\n",
    "# Error Handling\n",
    "\n",
    "# Python 2\n",
    "try:\n",
    "    error_variable\n",
    "except NameError, e:\n",
    "    print e, 'the error message'\n",
    "\n",
    "# Python 3\n",
    "try:\n",
    "    error_variable\n",
    "except NameError as e:\n",
    "    Print(e, 'the error message')\n",
    "```"
   ]
  },
  {
   "cell_type": "markdown",
   "metadata": {
    "slideshow": {
     "slide_type": "subslide"
    }
   },
   "source": [
    "`next()` and `.next()` methods\n",
    "\n",
    "```python\n",
    "# Python 2\n",
    "gen = (letter for letter in 'abcdefg')\n",
    "next(gen)\n",
    "gen.next()\n",
    "\n",
    "# Python 3\n",
    "gen = (letter for letter in 'abcdefg')\n",
    "next(gen)\n",
    "# there is no .next() in python 3\n",
    "```"
   ]
  },
  {
   "cell_type": "markdown",
   "metadata": {
    "slideshow": {
     "slide_type": "slide"
    }
   },
   "source": [
    "# Why is Python 2 being deprecated?\n",
    "\n",
    "- Issues with Python 2\n",
    "- Breaking changes\n",
    "- No focus on backwards compatibility\n",
    "- Need to move forward with new design changes\n",
    "- There will not be a Python 3 and Python 4 problem"
   ]
  },
  {
   "cell_type": "code",
   "execution_count": null,
   "metadata": {},
   "outputs": [],
   "source": []
  }
 ],
 "metadata": {
  "celltoolbar": "Slideshow",
  "kernelspec": {
   "display_name": "Python 3",
   "language": "python",
   "name": "python3"
  },
  "language_info": {
   "codemirror_mode": {
    "name": "ipython",
    "version": 3
   },
   "file_extension": ".py",
   "mimetype": "text/x-python",
   "name": "python",
   "nbconvert_exporter": "python",
   "pygments_lexer": "ipython3",
   "version": "3.7.0"
  }
 },
 "nbformat": 4,
 "nbformat_minor": 2
}
